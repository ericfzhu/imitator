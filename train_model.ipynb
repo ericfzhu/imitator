{
 "cells": [
  {
   "cell_type": "code",
   "execution_count": 6,
   "metadata": {},
   "outputs": [
    {
     "data": {
      "text/html": [
       "Finishing last run (ID:fokojrsc) before initializing another..."
      ],
      "text/plain": [
       "<IPython.core.display.HTML object>"
      ]
     },
     "metadata": {},
     "output_type": "display_data"
    },
    {
     "data": {
      "text/html": [
       " View run <strong style=\"color:#cdcd00\">hopeful-pond-3</strong> at: <a href='https://wandb.ai/ericfzhu/DSLR%20ResNeXT/runs/fokojrsc' target=\"_blank\">https://wandb.ai/ericfzhu/DSLR%20ResNeXT/runs/fokojrsc</a><br/>Synced 4 W&B file(s), 0 media file(s), 0 artifact file(s) and 0 other file(s)"
      ],
      "text/plain": [
       "<IPython.core.display.HTML object>"
      ]
     },
     "metadata": {},
     "output_type": "display_data"
    },
    {
     "data": {
      "text/html": [
       "Find logs at: <code>.\\wandb\\run-20240126_141511-fokojrsc\\logs</code>"
      ],
      "text/plain": [
       "<IPython.core.display.HTML object>"
      ]
     },
     "metadata": {},
     "output_type": "display_data"
    },
    {
     "data": {
      "text/html": [
       "Successfully finished last run (ID:fokojrsc). Initializing new run:<br/>"
      ],
      "text/plain": [
       "<IPython.core.display.HTML object>"
      ]
     },
     "metadata": {},
     "output_type": "display_data"
    },
    {
     "data": {
      "text/html": [
       "Tracking run with wandb version 0.16.2"
      ],
      "text/plain": [
       "<IPython.core.display.HTML object>"
      ]
     },
     "metadata": {},
     "output_type": "display_data"
    },
    {
     "data": {
      "text/html": [
       "Run data is saved locally in <code>x:\\Documents\\GitHub\\DSLR-ResNeXt\\wandb\\run-20240126_141617-8v218a83</code>"
      ],
      "text/plain": [
       "<IPython.core.display.HTML object>"
      ]
     },
     "metadata": {},
     "output_type": "display_data"
    },
    {
     "data": {
      "text/html": [
       "Syncing run <strong><a href='https://wandb.ai/ericfzhu/DSLR%20ResNeXT/runs/8v218a83' target=\"_blank\">efficient-voice-4</a></strong> to <a href='https://wandb.ai/ericfzhu/DSLR%20ResNeXT' target=\"_blank\">Weights & Biases</a> (<a href='https://wandb.me/run' target=\"_blank\">docs</a>)<br/>"
      ],
      "text/plain": [
       "<IPython.core.display.HTML object>"
      ]
     },
     "metadata": {},
     "output_type": "display_data"
    },
    {
     "data": {
      "text/html": [
       " View project at <a href='https://wandb.ai/ericfzhu/DSLR%20ResNeXT' target=\"_blank\">https://wandb.ai/ericfzhu/DSLR%20ResNeXT</a>"
      ],
      "text/plain": [
       "<IPython.core.display.HTML object>"
      ]
     },
     "metadata": {},
     "output_type": "display_data"
    },
    {
     "data": {
      "text/html": [
       " View run at <a href='https://wandb.ai/ericfzhu/DSLR%20ResNeXT/runs/8v218a83' target=\"_blank\">https://wandb.ai/ericfzhu/DSLR%20ResNeXT/runs/8v218a83</a>"
      ],
      "text/plain": [
       "<IPython.core.display.HTML object>"
      ]
     },
     "metadata": {},
     "output_type": "display_data"
    },
    {
     "data": {
      "text/html": [
       "<button onClick=\"this.nextSibling.style.display='block';this.style.display='none';\">Display W&B run</button><iframe src='https://wandb.ai/ericfzhu/DSLR%20ResNeXT/runs/8v218a83?jupyter=true' style='border:none;width:100%;height:420px;display:none;'></iframe>"
      ],
      "text/plain": [
       "<wandb.sdk.wandb_run.Run at 0x16c8bbf9a50>"
      ]
     },
     "execution_count": 6,
     "metadata": {},
     "output_type": "execute_result"
    }
   ],
   "source": [
    "#%matplotlib inline\n",
    "\n",
    "# Importing necessary libraries\n",
    "import random\n",
    "import os\n",
    "import torch\n",
    "import torch.nn as nn\n",
    "import torch.optim as optim\n",
    "from torchvision.utils import save_image\n",
    "import wandb\n",
    "\n",
    "# Importing the custom ResNeXt and Discriminator models along with dataloaders\n",
    "from model import ResNeXt, Discriminator\n",
    "from dataloader import get_dataloaders\n",
    "\n",
    "# Seed\n",
    "manual_seed = 0\n",
    "random.seed(manual_seed)\n",
    "torch.manual_seed(manual_seed)\n",
    "\n",
    "# Hyperparameters\n",
    "lr = 0.0002\n",
    "num_epochs = 5000\n",
    "device = torch.device(\"cuda\")\n",
    "lambda_L1 = 100\n",
    "batch_size = 50\n",
    "sample_size = 30000\n",
    "\n",
    "# Dataloaders\n",
    "train_loader, test_loader = get_dataloaders(batch_size=batch_size, sample_size=sample_size)\n",
    "\n",
    "# Wandb\n",
    "wandb.init(\n",
    "    project=\"DSLR ResNeXT\",\n",
    "    config={\n",
    "        \"learning_rate\": lr,\n",
    "        \"architecture\": \"ResNeXt GAN\",\n",
    "        \"dataset\": \"DPED\",\n",
    "        \"epochs\": num_epochs\n",
    "    }\n",
    ")\n"
   ]
  },
  {
   "cell_type": "code",
   "execution_count": 7,
   "metadata": {},
   "outputs": [],
   "source": [
    "\n",
    "# Initialize models\n",
    "generator = ResNeXt().to(device)\n",
    "discriminator = Discriminator().to(device)\n",
    "\n",
    "# Initialize optimizers\n",
    "optimizer_G = optim.AdamW(generator.parameters(), lr=lr, betas=(0.5, 0.999))\n",
    "optimizer_D = optim.AdamW(discriminator.parameters(), lr=lr, betas=(0.5, 0.999))\n",
    "\n",
    "# Define the loss functions\n",
    "criterion_GAN = nn.MSELoss()\n",
    "criterion_L1 = nn.L1Loss()"
   ]
  },
  {
   "cell_type": "code",
   "execution_count": 8,
   "metadata": {},
   "outputs": [],
   "source": [
    "# Load the generator checkpoint\n",
    "epoch = 650\n",
    "\n",
    "checkpoint = torch.load(f'checkpoints/model_epoch_{epoch}.pth')\n",
    "\n",
    "generator.load_state_dict(checkpoint['generator'])\n",
    "discriminator.load_state_dict(checkpoint['discriminator'])\n",
    "\n",
    "optimizer_G = optim.AdamW(generator.parameters(), lr=lr, betas=(0.5, 0.999))\n",
    "optimizer_G.load_state_dict(checkpoint['optimizer_G'])\n",
    "\n",
    "optimizer_D = optim.AdamW(discriminator.parameters(), lr=lr, betas=(0.5, 0.999))\n",
    "optimizer_D.load_state_dict(checkpoint['optimizer_D'])\n"
   ]
  },
  {
   "cell_type": "code",
   "execution_count": 5,
   "metadata": {},
   "outputs": [],
   "source": [
    "\n",
    "gen_losses = []\n",
    "disc_losses = []\n",
    "\n",
    "# Load a pre-trained VGG model\n",
    "# vgg = models.vgg19(weights=models.VGG19_Weights.DEFAULT).features.to(device).eval()\n",
    "\n",
    "# def get_features(image, model, layers=None):\n",
    "#     if layers is None:\n",
    "#         layers = {'0': 'conv1_1', '5': 'conv2_1', '10': 'conv3_1', \n",
    "#                   '19': 'conv4_1', '21': 'conv4_2', '28': 'conv5_1'}\n",
    "#     features = {}\n",
    "#     for name, layer in model._modules.items():\n",
    "#         image = layer(image)\n",
    "#         if name in layers:\n",
    "#             features[layers[name]] = image\n",
    "#     return features\n",
    "\n",
    "# def gram_matrix(tensor):\n",
    "#     _, d, h, w = tensor.size()\n",
    "#     tensor = tensor.view(d, -1)  # Change here\n",
    "#     gram = torch.mm(tensor, tensor.t())\n",
    "#     return gram / (tensor.size(1))\n",
    "\n",
    "# def total_variation_loss(img):\n",
    "#     tv_h = torch.mean(torch.abs(img[:, :, 1:, :] - img[:, :, :-1, :]))\n",
    "#     tv_w = torch.mean(torch.abs(img[:, :, :, 1:] - img[:, :, :, :-1]))\n",
    "#     return tv_h + tv_w\n",
    "\n",
    "# def gauss_kernel(size=21, sigma=3, channels=3):\n",
    "#     # Ensure the kernel size is odd\n",
    "#     if size % 2 == 0:\n",
    "#         size += 1\n",
    "\n",
    "#     # Create a 1D Gaussian kernel\n",
    "#     x = torch.linspace(-size // 2, size // 2, steps=size)\n",
    "#     gauss = torch.exp(-x.pow(2) / (2 * sigma**2))\n",
    "#     gauss = gauss / gauss.sum()\n",
    "\n",
    "#     # Create a 2D Gaussian kernel\n",
    "#     gauss_2d = gauss.unsqueeze(0) * gauss.unsqueeze(1)\n",
    "    \n",
    "#     # Stack and expand to desired number of channels\n",
    "#     gauss_3d = gauss_2d.expand(channels, 1, -1, -1)\n",
    "\n",
    "#     return gauss_3d\n",
    "\n",
    "# def get_color_loss(enhanced_image, dslr_image, batch_size):\n",
    "#     enhanced_blur = blur(enhanced_image)\n",
    "#     dslr_blur = blur(dslr_image)\n",
    "\n",
    "#     loss = torch.sum((dslr_blur - enhanced_blur) ** 2) / (2 * batch_size)\n",
    "#     return loss\n",
    "\n",
    "# def identity_color_loss(generator, dslr_images, batch_size):\n",
    "#     # Pass the DSLR images through the generator\n",
    "#     identity_images = generator(dslr_images)\n",
    "\n",
    "#     # Apply Gaussian blur to both the output and the original DSLR images\n",
    "#     identity_blur = blur(identity_images)\n",
    "#     dslr_blur = blur(dslr_images)\n",
    "\n",
    "#     # Calculate the loss as the mean squared error between the blurred images\n",
    "#     loss = torch.sum((dslr_blur - identity_blur) ** 2) / (2 * batch_size)\n",
    "#     return loss\n",
    "\n",
    "# def blur(image, kernel_size=21, sigma=3):\n",
    "#     channels = image.shape[1]\n",
    "#     kernel = gauss_kernel(kernel_size, sigma, channels)\n",
    "#     kernel = kernel.to(image.device)\n",
    "    \n",
    "#     # Apply depthwise convolution\n",
    "#     blurred = F.conv2d(image, kernel, groups=channels, padding=kernel_size//2)\n",
    "    \n",
    "#     return blurred\n",
    "\n"
   ]
  },
  {
   "cell_type": "code",
   "execution_count": 10,
   "metadata": {},
   "outputs": [],
   "source": [
    "# epoch = 0\n",
    "\n",
    "torch.backends.cudnn.benchmark = True\n",
    "\n",
    "for epoch in range(epoch, num_epochs):\n",
    "    for i, (real_images, target_images) in enumerate(train_loader):\n",
    "        real_images = real_images.to(device)\n",
    "        target_images = target_images.to(device)\n",
    "\n",
    "        # Adversarial ground truths\n",
    "        valid = torch.ones((real_images.size(0), 1), requires_grad=False, device=device)\n",
    "        fake = torch.zeros((real_images.size(0), 1), requires_grad=False, device=device)\n",
    "\n",
    "        # Forward pass\n",
    "        fake_images = generator(real_images)\n",
    "\n",
    "        # ---------------------\n",
    "        # Train Discriminator\n",
    "        # ---------------------\n",
    "        for param in discriminator.parameters():\n",
    "            param.requires_grad = True\n",
    "\n",
    "        optimizer_D.zero_grad(set_to_none=True)\n",
    "\n",
    "        # Calculate D gradients\n",
    "        pred_fake = discriminator(fake_images.detach())\n",
    "        loss_fake = criterion_GAN(pred_fake, fake)\n",
    "\n",
    "        pred_real = discriminator(target_images)\n",
    "        loss_real = criterion_GAN(pred_real, valid)\n",
    "        loss_D = (loss_real + loss_fake) * 0.5\n",
    "        loss_D.backward()\n",
    "\n",
    "        # Update D weights\n",
    "        optimizer_D.step()\n",
    "\n",
    "        # -----------------\n",
    "        # Train Generator\n",
    "        # -----------------\n",
    "        for param in discriminator.parameters():\n",
    "            param.requires_grad = False\n",
    "\n",
    "        optimizer_G.zero_grad(set_to_none=True)\n",
    "\n",
    "        # Calculate G gradients\n",
    "        pred_fake = discriminator(fake_images)\n",
    "        loss_GAN = criterion_GAN(pred_fake, valid)\n",
    "        loss_L1 = criterion_L1(fake_images, target_images) * lambda_L1\n",
    "        loss_G = loss_GAN + loss_L1\n",
    "        loss_G.backward()\n",
    "\n",
    "        # Update G weights\n",
    "        optimizer_G.step()\n",
    "\n",
    "        # if (i + 1) % 100 == 0:\n",
    "        #     wandb.log({\"Epoch\": epoch + 1, \"Step\": i + 1, \"Gen Loss\": loss_G.item(), \"Disc Loss\": loss_D.item()})\n",
    "    if (epoch + 1) % 10 == 0:\n",
    "        wandb.log({\"Epoch\": epoch + 1, \"Gen Loss\": loss_G.item(), \"Disc Loss\": loss_D.item()})\n",
    "        # Save model checkpoints\n",
    "        torch.save({\n",
    "            'generator_state_dict': generator.state_dict(),\n",
    "            'discriminator_state_dict': discriminator.state_dict(),\n",
    "            'optimizer_G_state_dict': optimizer_G.state_dict(),\n",
    "            'optimizer_D_state_dict': optimizer_D.state_dict()\n",
    "        }, f'checkpoints/model_epoch_{epoch + 1}.pth')\n",
    "\n",
    "        # Example of saving a sample enhanced image\n",
    "        sample_enhanced = fake_images[0]\n",
    "        sample_original = real_images[0]\n",
    "        comparison = torch.cat((sample_original, sample_enhanced), dim=2)\n",
    "        save_image(comparison, os.path.join('results', f'sample_epoch_{epoch + 1}.jpg'))\n",
    "\n"
   ]
  },
  {
   "cell_type": "code",
   "execution_count": null,
   "metadata": {},
   "outputs": [],
   "source": [
    "import matplotlib.pyplot as plt\n",
    "\n",
    "plt.figure(figsize=(10, 5))\n",
    "plt.title(\"Generator and Discriminator Loss During Training\")\n",
    "plt.plot(gen_losses,label=\"G\")\n",
    "plt.plot(disc_losses,label=\"D\")\n",
    "plt.xlabel(\"iterations\")\n",
    "plt.ylabel(\"Loss\")\n",
    "plt.legend()\n",
    "plt.show()\n"
   ]
  }
 ],
 "metadata": {
  "kernelspec": {
   "display_name": "DSLR_ResNeXt-h-GvV0Cj",
   "language": "python",
   "name": "python3"
  },
  "language_info": {
   "codemirror_mode": {
    "name": "ipython",
    "version": 3
   },
   "file_extension": ".py",
   "mimetype": "text/x-python",
   "name": "python",
   "nbconvert_exporter": "python",
   "pygments_lexer": "ipython3",
   "version": "3.11.0"
  }
 },
 "nbformat": 4,
 "nbformat_minor": 2
}
